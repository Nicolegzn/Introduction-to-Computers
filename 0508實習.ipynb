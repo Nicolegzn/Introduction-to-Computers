{
  "nbformat": 4,
  "nbformat_minor": 0,
  "metadata": {
    "colab": {
      "provenance": [],
      "authorship_tag": "ABX9TyM/7MvRByxt8n1GPgM5POUR",
      "include_colab_link": true
    },
    "kernelspec": {
      "name": "python3",
      "display_name": "Python 3"
    },
    "language_info": {
      "name": "python"
    }
  },
  "cells": [
    {
      "cell_type": "markdown",
      "metadata": {
        "id": "view-in-github",
        "colab_type": "text"
      },
      "source": [
        "<a href=\"https://colab.research.google.com/github/Nicolegzn/Introduction-to-Computers/blob/main/0508%E5%AF%A6%E7%BF%92.ipynb\" target=\"_parent\"><img src=\"https://colab.research.google.com/assets/colab-badge.svg\" alt=\"Open In Colab\"/></a>"
      ]
    },
    {
      "cell_type": "code",
      "execution_count": 2,
      "metadata": {
        "colab": {
          "base_uri": "https://localhost:8080/"
        },
        "id": "djgfL_HavMmd",
        "outputId": "1084bcfc-f392-4235-d304-722886267ec8"
      },
      "outputs": [
        {
          "output_type": "stream",
          "name": "stdout",
          "text": [
            "1\n",
            "<class 'bool'>\n",
            "0\n",
            "<class 'bool'>\n"
          ]
        }
      ],
      "source": [
        "x=True\n",
        "print(int(x))\n",
        "print(type(x))\n",
        "y=False\n",
        "print(int(y))\n",
        "print(type(y))"
      ]
    },
    {
      "cell_type": "code",
      "source": [
        "x1=\"22\"\n",
        "x2=\"33\"\n",
        "x3=x1+x2\n",
        "print(x3)\n",
        "x4=float(x1)+float(x2)\n",
        "print(x4)"
      ],
      "metadata": {
        "colab": {
          "base_uri": "https://localhost:8080/"
        },
        "id": "kmXE3nrFv7ak",
        "outputId": "6010f30a-e9b2-417d-f9f5-a159346b8ede"
      },
      "execution_count": 3,
      "outputs": [
        {
          "output_type": "stream",
          "name": "stdout",
          "text": [
            "2233\n",
            "55.0\n"
          ]
        }
      ]
    },
    {
      "cell_type": "code",
      "source": [
        "str1=\"我是XXX\"\n",
        "str2=\"我讀淡江大學\"\n",
        "str3=\"科系是XX系\"\n",
        "str4=str1+str2+str3\n",
        "print(str4)\n",
        "print(\"==========================\")\n",
        "str5=str1+\"\\n\"+str2+\"\\n\"+str3\n",
        "print(str5)"
      ],
      "metadata": {
        "id": "_YPtYJ0BxH0Y",
        "outputId": "380efafb-2a87-4b2a-edc6-1d3b1a9b0d45",
        "colab": {
          "base_uri": "https://localhost:8080/"
        }
      },
      "execution_count": 1,
      "outputs": [
        {
          "output_type": "stream",
          "name": "stdout",
          "text": [
            "我是XXX我讀淡江大學科系是XX系\n",
            "==========================\n",
            "我是XXX\n",
            "我讀淡江大學\n",
            "科系是XX系\n"
          ]
        }
      ]
    }
  ]
}