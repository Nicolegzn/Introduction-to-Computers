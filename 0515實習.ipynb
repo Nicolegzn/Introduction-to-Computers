{
  "nbformat": 4,
  "nbformat_minor": 0,
  "metadata": {
    "colab": {
      "provenance": [],
      "authorship_tag": "ABX9TyNuEq8y9xr24do0RYdqjsYl",
      "include_colab_link": true
    },
    "kernelspec": {
      "name": "python3",
      "display_name": "Python 3"
    },
    "language_info": {
      "name": "python"
    }
  },
  "cells": [
    {
      "cell_type": "markdown",
      "metadata": {
        "id": "view-in-github",
        "colab_type": "text"
      },
      "source": [
        "<a href=\"https://colab.research.google.com/github/Nicolegzn/Introduction-to-Computers/blob/main/0515%E5%AF%A6%E7%BF%92.ipynb\" target=\"_parent\"><img src=\"https://colab.research.google.com/assets/colab-badge.svg\" alt=\"Open In Colab\"/></a>"
      ]
    },
    {
      "cell_type": "code",
      "execution_count": 1,
      "metadata": {
        "colab": {
          "base_uri": "https://localhost:8080/"
        },
        "id": "tIU9rUulxDRk",
        "outputId": "986a8fb7-0cd2-4f2d-b335-aad7a04f5aeb"
      },
      "outputs": [
        {
          "output_type": "stream",
          "name": "stdout",
          "text": [
            "輸入整數10\n",
            "10\n",
            "輸入數字10\n",
            "10.0\n"
          ]
        }
      ],
      "source": [
        "a=int(input(\"輸入整數\"))\n",
        "print(a)\n",
        "b=float(input(\"輸入數字\"))\n",
        "print(b)"
      ]
    },
    {
      "cell_type": "code",
      "source": [
        "a=int(input(\"台灣時間(24小時制):\"))\n",
        "print(\"加拿大時間:\",(a+24-15)%24)"
      ],
      "metadata": {
        "colab": {
          "base_uri": "https://localhost:8080/"
        },
        "id": "x06A7h92yBwj",
        "outputId": "9455563e-4a51-4285-f895-a3fc465b5908"
      },
      "execution_count": 2,
      "outputs": [
        {
          "output_type": "stream",
          "name": "stdout",
          "text": [
            "台灣時間(24小時制):6\n",
            "加拿大時間: 15\n"
          ]
        }
      ]
    },
    {
      "cell_type": "code",
      "source": [
        "a=int(input(\"輸入班上人數:\"))\n",
        "print((a//12)*50+(a%12)*5)"
      ],
      "metadata": {
        "colab": {
          "base_uri": "https://localhost:8080/"
        },
        "id": "_LPIxPH4ytxe",
        "outputId": "211fe09e-f158-4fdf-9d03-8192c4379e3b"
      },
      "execution_count": 3,
      "outputs": [
        {
          "output_type": "stream",
          "name": "stdout",
          "text": [
            "輸入班上人數:42\n",
            "180\n"
          ]
        }
      ]
    },
    {
      "cell_type": "code",
      "source": [
        "num=int(input(\"輸入3位數:\"))\n",
        "A=num%10\n",
        "B=num//10%10\n",
        "C=num//100%10\n",
        "D=A+B+C\n",
        "print(D)"
      ],
      "metadata": {
        "colab": {
          "base_uri": "https://localhost:8080/"
        },
        "id": "APFkjVoizh3x",
        "outputId": "ef39fef5-dd14-4823-fc74-367d67666703"
      },
      "execution_count": 4,
      "outputs": [
        {
          "output_type": "stream",
          "name": "stdout",
          "text": [
            "輸入3位數:123\n",
            "6\n"
          ]
        }
      ]
    },
    {
      "cell_type": "code",
      "source": [
        "name_score=input('請輸入姓名和成績,資料之間加入空格:')\n",
        "name,score=name_score.split()\n",
        "print(name)\n",
        "print(score)\n",
        "score=int(score)\n",
        "print(type(score))"
      ],
      "metadata": {
        "colab": {
          "base_uri": "https://localhost:8080/"
        },
        "id": "cHnQxvn00oqr",
        "outputId": "d461c432-14f9-440a-d32c-56a468aa22c6"
      },
      "execution_count": 7,
      "outputs": [
        {
          "output_type": "stream",
          "name": "stdout",
          "text": [
            "請輸入姓名和成績,資料之間加入空格:Steven 90\n",
            "Steven\n",
            "90\n",
            "<class 'int'>\n"
          ]
        }
      ]
    }
  ]
}