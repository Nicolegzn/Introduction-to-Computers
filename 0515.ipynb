{
  "cells": [
    {
      "cell_type": "markdown",
      "metadata": {
        "id": "view-in-github",
        "colab_type": "text"
      },
      "source": [
        "<a href=\"https://colab.research.google.com/github/Nicolegzn/Introduction-to-Computers/blob/main/0515.ipynb\" target=\"_parent\"><img src=\"https://colab.research.google.com/assets/colab-badge.svg\" alt=\"Open In Colab\"/></a>"
      ]
    },
    {
      "cell_type": "code",
      "execution_count": null,
      "metadata": {
        "id": "Kqk5-qL5od4Q",
        "colab": {
          "base_uri": "https://localhost:8080/"
        },
        "outputId": "7e88f59f-1fb3-480d-9aa2-2d89a325ad37"
      },
      "outputs": [
        {
          "output_type": "stream",
          "name": "stdout",
          "text": [
            "temperature:35\n",
            "body temperature is:體溫正常！\n"
          ]
        }
      ],
      "source": [
        "temperature=int(input(\"temperature:\"))\n",
        "if temperature >= 37.5:\n",
        "  print('body temperature is:體溫過高！')\n",
        "elif 37.4 >= temperature >= 37:\n",
        "  print('body temperature is:體溫略高！')\n",
        "elif 36.9 >= temperature >= 34:\n",
        "  print('body temperature is:體溫正常！')\n",
        "elif temperature < 34:\n",
        "  print('body temperature is:體溫異常，請重新量測！')\n",
        "else:\n",
        "  print('body temperature is:X')"
      ]
    },
    {
      "cell_type": "code",
      "source": [
        "score=int(input(\"score:\"))\n",
        "if score >= 90:\n",
        " print('Grade is:A')\n",
        "elif 89 >= score >=89:\n",
        " print('Grade is:B')\n",
        "elif 79 >= score >=70:\n",
        " print('Grade is:C')\n",
        "elif 69 >= score >= 60:\n",
        " print('Grade is:D')\n",
        "elif score < 60:\n",
        " print('Grade is:E')\n",
        "else:\n",
        " print('Grade is:F')"
      ],
      "metadata": {
        "colab": {
          "base_uri": "https://localhost:8080/"
        },
        "id": "OS69hX6zXoBy",
        "outputId": "b0fad801-9fdf-40b1-96a4-3e12c3413959"
      },
      "execution_count": null,
      "outputs": [
        {
          "output_type": "stream",
          "name": "stdout",
          "text": [
            "score:91\n",
            "Grade is:A\n"
          ]
        }
      ]
    },
    {
      "cell_type": "code",
      "source": [
        "for i in range(2):\n",
        "    x=int(input())\n",
        "if (x==12 or x==1 or x==2):\n",
        " print(f'{x}月是冬天')\n",
        "elif(x==3 or x==4 or x==5):\n",
        " print(f'{x}月是春天')\n",
        "elif(x==6 or x==7 or x==8):\n",
        " print(f'{x}月是夏天')\n",
        "elif(x==9 or x==10 or x==11):\n",
        " print(f'{x}月是秋天')\n",
        "else:\n",
        " print(\"月份不在範圍內\")"
      ],
      "metadata": {
        "id": "BwMXtvvBstd_",
        "colab": {
          "base_uri": "https://localhost:8080/"
        },
        "outputId": "25346f55-d94e-4167-f49e-be3f49703bfe"
      },
      "execution_count": null,
      "outputs": [
        {
          "output_type": "stream",
          "name": "stdout",
          "text": [
            "1\n",
            "12\n",
            "12月是冬天\n"
          ]
        }
      ]
    },
    {
      "cell_type": "code",
      "source": [
        "taxes=int(input(\"請輸入今年收入淨額:\"))\n",
        "if taxes >= 2000000:\n",
        "  print('tax rate is:0.3')\n",
        "elif taxes >= 1000000:\n",
        "  print('tax rate is:0.21')\n",
        "elif taxes >= 600000:\n",
        "  print('tax rate is:0.13')\n",
        "elif taxes >= 300000:\n",
        "  print('tax rate is:0.06')\n",
        "else:\n",
        "  print(\"付稅金額:0\")"
      ],
      "metadata": {
        "id": "VUa9ndeJPc6s",
        "colab": {
          "base_uri": "https://localhost:8080/"
        },
        "outputId": "d6e4fac5-dfd7-4f89-adf2-d2df66900ddc"
      },
      "execution_count": null,
      "outputs": [
        {
          "output_type": "stream",
          "name": "stdout",
          "text": [
            "請輸入今年收入淨額:100000\n",
            "付稅金額:0\n"
          ]
        }
      ]
    },
    {
      "cell_type": "code",
      "source": [
        "rain=int(input(\"今天會下雨嗎:\"))\n",
        "if rain == 1:\n",
        " print('rain:Y')\n",
        "elif rain == 0:\n",
        " print('rain:y')\n",
        "else:\n",
        " print('rain:X')"
      ],
      "metadata": {
        "id": "zx8NdW7GQ3Xx",
        "colab": {
          "base_uri": "https://localhost:8080/"
        },
        "outputId": "c0b64368-5e35-4045-b610-f4326e60a78d"
      },
      "execution_count": 16,
      "outputs": [
        {
          "output_type": "stream",
          "name": "stdout",
          "text": [
            "今天會下雨嗎:1\n",
            "rain:Y\n"
          ]
        }
      ]
    }
  ],
  "metadata": {
    "colab": {
      "provenance": [],
      "authorship_tag": "ABX9TyNAy//0Mh4CAMQRPzDco6NX",
      "include_colab_link": true
    },
    "kernelspec": {
      "display_name": "Python 3",
      "name": "python3"
    },
    "language_info": {
      "name": "python"
    }
  },
  "nbformat": 4,
  "nbformat_minor": 0
}